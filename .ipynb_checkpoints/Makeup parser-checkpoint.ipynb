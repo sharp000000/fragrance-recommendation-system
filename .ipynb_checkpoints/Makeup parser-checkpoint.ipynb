{
 "cells": [
  {
   "cell_type": "code",
   "execution_count": 2,
   "metadata": {},
   "outputs": [],
   "source": [
    "from bs4 import BeautifulSoup\n",
    "import cfscrape\n",
    "#cfscrape.DEFAULT_CIPHERS += ':!SHA1'\n",
    "# cfscrape.DEFAULT_CIPHERS = 'TLS_AES_256_GCM_SHA384:ECDHE-ECDSA-AES256-SHA384'"
   ]
  },
  {
   "cell_type": "code",
   "execution_count": 3,
   "metadata": {},
   "outputs": [],
   "source": [
    "# scraper = cfscrape.create_scraper()\n",
    "scraper = cfscrape.CloudflareScraper()"
   ]
  },
  {
   "cell_type": "code",
   "execution_count": null,
   "metadata": {},
   "outputs": [],
   "source": [
    "print(scraper.get(\"http://somesite.com\").content)"
   ]
  },
  {
   "cell_type": "code",
   "execution_count": 68,
   "metadata": {},
   "outputs": [],
   "source": [
    "parsed_html = BeautifulSoup(scraper.get(\"https://www.basenotes.net/fragrancedirectory/?name=&house=&launch=1&launch1=2020&gender=&avail=any&perfumer=&bottle=&notes=\").content,'html.parser')"
   ]
  },
  {
   "cell_type": "code",
   "execution_count": 89,
   "metadata": {},
   "outputs": [
    {
     "data": {
      "text/plain": [
       "[<div class=\"threadpagestats\" id=\"threadpagestats\">  Showing 1 to 80 of 734.</div>,\n",
       " <div class=\"threadpagestats\" id=\"threadpagestats\">  Showing 1 to 80 of 734.</div>]"
      ]
     },
     "execution_count": 89,
     "metadata": {},
     "output_type": "execute_result"
    }
   ],
   "source": [
    "parsed_html.find_all('div',{\"id\":\"threadpagestats\"})"
   ]
  },
  {
   "cell_type": "code",
   "execution_count": 76,
   "metadata": {},
   "outputs": [],
   "source": [
    "for a in parsed_html.find_all('div', href=True): \n",
    "    print(a['class'])"
   ]
  },
  {
   "cell_type": "code",
   "execution_count": 70,
   "metadata": {},
   "outputs": [],
   "source": [
    "links_with_text = []\n",
    "for a in parsed_html.find_all('a', href=True): \n",
    "    if a.text: \n",
    "        links_with_text.append(a['href'])"
   ]
  },
  {
   "cell_type": "code",
   "execution_count": 71,
   "metadata": {},
   "outputs": [
    {
     "data": {
      "text/plain": [
       "['https://www.basenotes.net/log-in/',\n",
       " 'https://www.basenotes.net/register.php',\n",
       " '/fragrancedirectory/',\n",
       " 'https://www.basenotes.net/perfumenews/',\n",
       " 'https://www.basenotes.net/features/',\n",
       " 'https://www.basenotes.net/fragrancereviews/',\n",
       " '/forum.php',\n",
       " '/group.php',\n",
       " '/blog.php',\n",
       " 'https://www.basenotes.net/bn_todaysscent.php',\n",
       " '#',\n",
       " 'https://www.basenotes.net/fragrancedirectory',\n",
       " 'https://www.basenotes.net',\n",
       " '/fragrancedirectory/',\n",
       " '/brand/',\n",
       " '/person/',\n",
       " \"javascript:SwapDivsWithClick('pswapperfirst','pswapperother')\",\n",
       " 'https://www.basenotes.net/fragrancedirectory/?i=9',\n",
       " 'https://www.basenotes.net/fragrancedirectory/?i=a',\n",
       " 'https://www.basenotes.net/fragrancedirectory/?i=b',\n",
       " 'https://www.basenotes.net/fragrancedirectory/?i=c',\n",
       " 'https://www.basenotes.net/fragrancedirectory/?i=d',\n",
       " 'https://www.basenotes.net/fragrancedirectory/?i=e',\n",
       " 'https://www.basenotes.net/fragrancedirectory/?i=f',\n",
       " 'https://www.basenotes.net/fragrancedirectory/?i=g',\n",
       " 'https://www.basenotes.net/fragrancedirectory/?i=h',\n",
       " 'https://www.basenotes.net/fragrancedirectory/?i=i',\n",
       " 'https://www.basenotes.net/fragrancedirectory/?i=j',\n",
       " 'https://www.basenotes.net/fragrancedirectory/?i=k',\n",
       " 'https://www.basenotes.net/fragrancedirectory/?i=l',\n",
       " 'https://www.basenotes.net/fragrancedirectory/?i=m',\n",
       " 'https://www.basenotes.net/fragrancedirectory/?i=n',\n",
       " 'https://www.basenotes.net/fragrancedirectory/?i=o',\n",
       " 'https://www.basenotes.net/fragrancedirectory/?i=p',\n",
       " 'https://www.basenotes.net/fragrancedirectory/?i=q',\n",
       " 'https://www.basenotes.net/fragrancedirectory/?i=r',\n",
       " 'https://www.basenotes.net/fragrancedirectory/?i=s',\n",
       " 'https://www.basenotes.net/fragrancedirectory/?i=t',\n",
       " 'https://www.basenotes.net/fragrancedirectory/?i=u',\n",
       " 'https://www.basenotes.net/fragrancedirectory/?i=v',\n",
       " 'https://www.basenotes.net/fragrancedirectory/?i=w',\n",
       " 'https://www.basenotes.net/fragrancedirectory/?i=x',\n",
       " 'https://www.basenotes.net/fragrancedirectory/?i=y',\n",
       " 'https://www.basenotes.net/fragrancedirectory/?i=z',\n",
       " \"javascript:SwapDivsWithClick('pswapperfirst','pswapperother')\",\n",
       " 'javascript://',\n",
       " 'https://www.basenotes.net/fragrancedirectory/?launch1=2020&launch=1&p=2',\n",
       " 'https://www.basenotes.net/fragrancedirectory/?launch1=2020&launch=1&p=3',\n",
       " 'https://www.basenotes.net/fragrancedirectory/?launch1=2020&launch=1&p=4',\n",
       " 'https://www.basenotes.net/fragrancedirectory/?launch1=2020&launch=1&p=5',\n",
       " 'https://www.basenotes.net/fragrancedirectory/?launch1=2020&launch=1&p=6',\n",
       " 'https://www.basenotes.net/fragrancedirectory/?launch1=2020&launch=1&p=7',\n",
       " 'https://www.basenotes.net/fragrancedirectory/?launch1=2020&launch=1&p=8',\n",
       " 'https://www.basenotes.net/fragrancedirectory/?launch1=2020&launch=1&p=9',\n",
       " 'https://www.basenotes.net/fragrancedirectory/?launch1=2020&launch=1&p=10',\n",
       " 'https://www.basenotes.net/fragrancedirectory/?launch1=2020&launch=1&p=2',\n",
       " 'https://www.basenotes.net/fragrancedirectory/?launch1=2020&launch=1&p=10',\n",
       " 'https://www.basenotes.net/ID26161849.html',\n",
       " 'https://www.basenotes.net/ID26161733.html',\n",
       " 'https://www.basenotes.net/ID26161950.html',\n",
       " 'https://www.basenotes.net/ID26161304.html',\n",
       " 'https://www.basenotes.net/ID26161361.html',\n",
       " 'https://www.basenotes.net/ID26160867.html',\n",
       " 'https://www.basenotes.net/ID26160678.html',\n",
       " 'https://www.basenotes.net/ID26160538.html',\n",
       " 'https://www.basenotes.net/ID26160679.html',\n",
       " 'https://www.basenotes.net/ID26160566.html',\n",
       " 'https://www.basenotes.net/ID26161222.html',\n",
       " 'https://www.basenotes.net/ID26161223.html',\n",
       " 'https://www.basenotes.net/ID26161224.html',\n",
       " 'https://www.basenotes.net/ID26161225.html',\n",
       " 'https://www.basenotes.net/ID26160866.html',\n",
       " 'https://www.basenotes.net/ID26161027.html',\n",
       " 'https://www.basenotes.net/ID26161065.html',\n",
       " 'https://www.basenotes.net/ID26160331.html',\n",
       " 'https://www.basenotes.net/ID26161653.html',\n",
       " 'https://www.basenotes.net/ID26160875.html',\n",
       " 'https://www.basenotes.net/ID26160651.html',\n",
       " 'https://www.basenotes.net/ID26161229.html',\n",
       " 'https://www.basenotes.net/ID26161553.html',\n",
       " 'https://www.basenotes.net/ID26160578.html',\n",
       " 'https://www.basenotes.net/ID26161698.html',\n",
       " 'https://www.basenotes.net/ID26161413.html',\n",
       " 'https://www.basenotes.net/ID26160505.html',\n",
       " 'https://www.basenotes.net/ID26160504.html',\n",
       " 'https://www.basenotes.net/ID26160764.html',\n",
       " 'https://www.basenotes.net/ID26160863.html',\n",
       " 'https://www.basenotes.net/ID26161557.html',\n",
       " 'https://www.basenotes.net/ID26161558.html',\n",
       " 'https://www.basenotes.net/ID26161607.html',\n",
       " 'https://www.basenotes.net/ID26162079.html',\n",
       " 'https://www.basenotes.net/ID26160707.html',\n",
       " 'https://www.basenotes.net/ID26161818.html',\n",
       " 'https://www.basenotes.net/ID26160862.html',\n",
       " 'https://www.basenotes.net/ID26160461.html',\n",
       " 'https://www.basenotes.net/ID26161851.html',\n",
       " 'https://www.basenotes.net/ID26161969.html',\n",
       " 'https://www.basenotes.net/ID26161170.html',\n",
       " 'https://www.basenotes.net/ID26161250.html',\n",
       " 'https://www.basenotes.net/ID26161659.html',\n",
       " 'https://www.basenotes.net/ID26160506.html',\n",
       " 'https://www.basenotes.net/ID26161995.html',\n",
       " 'https://www.basenotes.net/ID26160460.html',\n",
       " 'https://www.basenotes.net/ID26161535.html',\n",
       " 'https://www.basenotes.net/ID26160899.html',\n",
       " 'https://www.basenotes.net/ID26160900.html',\n",
       " 'https://www.basenotes.net/ID26161117.html',\n",
       " 'https://www.basenotes.net/ID26161118.html',\n",
       " 'https://www.basenotes.net/ID26161119.html',\n",
       " 'https://www.basenotes.net/ID26161986.html',\n",
       " 'https://www.basenotes.net/ID26161970.html',\n",
       " 'https://www.basenotes.net/ID26161133.html',\n",
       " 'https://www.basenotes.net/ID26161987.html',\n",
       " 'https://www.basenotes.net/ID26161507.html',\n",
       " 'https://www.basenotes.net/ID26160442.html',\n",
       " 'https://www.basenotes.net/ID26162220.html',\n",
       " 'https://www.basenotes.net/ID26162219.html',\n",
       " 'https://www.basenotes.net/ID26160443.html',\n",
       " 'https://www.basenotes.net/ID26160441.html',\n",
       " 'https://www.basenotes.net/ID26160113.html',\n",
       " 'https://www.basenotes.net/ID26161976.html',\n",
       " 'https://www.basenotes.net/ID26161856.html',\n",
       " 'https://www.basenotes.net/ID26161450.html',\n",
       " 'https://www.basenotes.net/ID26161988.html',\n",
       " 'https://www.basenotes.net/ID26161637.html',\n",
       " 'https://www.basenotes.net/ID26160963.html',\n",
       " 'https://www.basenotes.net/ID26162129.html',\n",
       " 'https://www.basenotes.net/ID26161539.html',\n",
       " 'https://www.basenotes.net/ID26161066.html',\n",
       " 'https://www.basenotes.net/ID26162188.html',\n",
       " 'https://www.basenotes.net/ID26162030.html',\n",
       " 'https://www.basenotes.net/ID26161668.html',\n",
       " 'https://www.basenotes.net/ID26161542.html',\n",
       " 'https://www.basenotes.net/ID26161850.html',\n",
       " 'https://www.basenotes.net/ID26160896.html',\n",
       " 'https://www.basenotes.net/ID26161335.html',\n",
       " 'https://www.basenotes.net/ID26160972.html',\n",
       " 'javascript://',\n",
       " 'https://www.basenotes.net/fragrancedirectory/?launch1=2020&launch=1&p=2',\n",
       " 'https://www.basenotes.net/fragrancedirectory/?launch1=2020&launch=1&p=3',\n",
       " 'https://www.basenotes.net/fragrancedirectory/?launch1=2020&launch=1&p=4',\n",
       " 'https://www.basenotes.net/fragrancedirectory/?launch1=2020&launch=1&p=5',\n",
       " 'https://www.basenotes.net/fragrancedirectory/?launch1=2020&launch=1&p=6',\n",
       " 'https://www.basenotes.net/fragrancedirectory/?launch1=2020&launch=1&p=7',\n",
       " 'https://www.basenotes.net/fragrancedirectory/?launch1=2020&launch=1&p=8',\n",
       " 'https://www.basenotes.net/fragrancedirectory/?launch1=2020&launch=1&p=9',\n",
       " 'https://www.basenotes.net/fragrancedirectory/?launch1=2020&launch=1&p=10',\n",
       " 'https://www.basenotes.net/fragrancedirectory/?launch1=2020&launch=1&p=2',\n",
       " 'https://www.basenotes.net/fragrancedirectory/?launch1=2020&launch=1&p=10',\n",
       " 'https://www.basenotes.net/perfumenews/',\n",
       " 'https://www.basenotes.net/features/',\n",
       " 'https://www.basenotes.net/fragrancedirectory/',\n",
       " 'https://www.basenotes.net/forum.php',\n",
       " 'https://www.basenotes.net/fragrancereviews/',\n",
       " 'https://www.basenotes.net/sendmessage.php',\n",
       " 'https://www.basenotes.net/about/advertise',\n",
       " 'https://www.basenotes.net/faq.php',\n",
       " 'https://www.basenotes.net/blogs/1-Basenotesnotes',\n",
       " 'https://www.basenotes.net/contributors',\n",
       " 'https://www.basenotes.net/about',\n",
       " 'https://www.basenotes.net/fragrancedirectory/',\n",
       " 'https://www.basenotes.net/company/',\n",
       " 'https://www.basenotes.net/person/',\n",
       " 'https://www.basenotes.net/events/',\n",
       " 'https://www.basenotes.net/perfumenews/',\n",
       " 'https://www.basenotes.net/forum.php',\n",
       " 'https://www.basenotes.net/bn_letter.php?i=9',\n",
       " 'https://www.basenotes.net/bn_letter.php?i=a',\n",
       " 'https://www.basenotes.net/bn_letter.php?i=b',\n",
       " 'https://www.basenotes.net/bn_letter.php?i=c',\n",
       " 'https://www.basenotes.net/bn_letter.php?i=d',\n",
       " 'https://www.basenotes.net/bn_letter.php?i=e',\n",
       " 'https://www.basenotes.net/bn_letter.php?i=f',\n",
       " 'https://www.basenotes.net/bn_letter.php?i=g',\n",
       " 'https://www.basenotes.net/bn_letter.php?i=h',\n",
       " 'https://www.basenotes.net/bn_letter.php?i=i',\n",
       " 'https://www.basenotes.net/bn_letter.php?i=j',\n",
       " 'https://www.basenotes.net/bn_letter.php?i=k',\n",
       " 'https://www.basenotes.net/bn_letter.php?i=l',\n",
       " 'https://www.basenotes.net/bn_letter.php?i=m',\n",
       " 'https://www.basenotes.net/bn_letter.php?i=n',\n",
       " 'https://www.basenotes.net/bn_letter.php?i=o',\n",
       " 'https://www.basenotes.net/bn_letter.php?i=p',\n",
       " 'https://www.basenotes.net/bn_letter.php?i=q',\n",
       " 'https://www.basenotes.net/bn_letter.php?i=r',\n",
       " 'https://www.basenotes.net/bn_letter.php?i=s',\n",
       " 'https://www.basenotes.net/bn_letter.php?i=t',\n",
       " 'https://www.basenotes.net/bn_letter.php?i=u',\n",
       " 'https://www.basenotes.net/bn_letter.php?i=v',\n",
       " 'https://www.basenotes.net/bn_letter.php?i=w',\n",
       " 'https://www.basenotes.net/bn_letter.php?i=x',\n",
       " 'https://www.basenotes.net/bn_letter.php?i=y',\n",
       " 'https://www.basenotes.net/bn_letter.php?i=z',\n",
       " 'https://www.basenotes.net/rnd',\n",
       " 'https://www.basenotes.net/about/terms',\n",
       " 'https://www.basenotes.net/about/cookiepolicy',\n",
       " 'https://www.basenotes.net/about/privacy',\n",
       " 'https://www.basenotes.net/about/content',\n",
       " '#top']"
      ]
     },
     "execution_count": 71,
     "metadata": {},
     "output_type": "execute_result"
    }
   ],
   "source": [
    "links_with_text"
   ]
  },
  {
   "cell_type": "code",
   "execution_count": 72,
   "metadata": {},
   "outputs": [],
   "source": [
    "for ul in parsed_html.find_all('', class_='card-section'):\n",
    "    a = ul.find('a')\n",
    "    print(a['href'], a.get_text())"
   ]
  },
  {
   "cell_type": "code",
   "execution_count": 73,
   "metadata": {},
   "outputs": [
    {
     "data": {
      "text/plain": [
       "[]"
      ]
     },
     "execution_count": 73,
     "metadata": {},
     "output_type": "execute_result"
    }
   ],
   "source": [
    "parsed_html.find_all(\"span\",class_=\"rtgNote\")"
   ]
  },
  {
   "cell_type": "code",
   "execution_count": 74,
   "metadata": {},
   "outputs": [],
   "source": [
    "for node in parsed_html.find_all(\"span\",class_=\"rtgNote\"):\n",
    "    print (node.find('title'))"
   ]
  },
  {
   "cell_type": "code",
   "execution_count": 28,
   "metadata": {},
   "outputs": [],
   "source": [
    "import re\n",
    "content = str(re.sub(\"title=.*?title=\", \"\", str(parsed_html.find_all(\"span\",class_=\"rtgNote\"))))"
   ]
  },
  {
   "cell_type": "code",
   "execution_count": 29,
   "metadata": {},
   "outputs": [
    {
     "data": {
      "text/plain": [
       "'[]'"
      ]
     },
     "execution_count": 29,
     "metadata": {},
     "output_type": "execute_result"
    }
   ],
   "source": [
    "content"
   ]
  },
  {
   "cell_type": "code",
   "execution_count": 16,
   "metadata": {},
   "outputs": [
    {
     "data": {
      "text/plain": [
       "250149292118670754880168362330814645935"
      ]
     },
     "execution_count": 16,
     "metadata": {},
     "output_type": "execute_result"
    }
   ],
   "source": [
    "int('0xbc310050568c554211e622a042c386af',0)"
   ]
  },
  {
   "cell_type": "code",
   "execution_count": null,
   "metadata": {},
   "outputs": [],
   "source": []
  }
 ],
 "metadata": {
  "kernelspec": {
   "display_name": "personal",
   "language": "python",
   "name": "personal"
  },
  "language_info": {
   "codemirror_mode": {
    "name": "ipython",
    "version": 3
   },
   "file_extension": ".py",
   "mimetype": "text/x-python",
   "name": "python",
   "nbconvert_exporter": "python",
   "pygments_lexer": "ipython3",
   "version": "3.7.7"
  }
 },
 "nbformat": 4,
 "nbformat_minor": 2
}
