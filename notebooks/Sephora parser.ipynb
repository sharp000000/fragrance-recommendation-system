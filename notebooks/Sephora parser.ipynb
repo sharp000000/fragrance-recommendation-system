{
 "cells": [
  {
   "cell_type": "code",
   "execution_count": 3,
   "metadata": {},
   "outputs": [],
   "source": [
    "from bs4 import BeautifulSoup\n",
    "import selenium \n",
    "from selenium import webdriver\n",
    "import requests\n",
    "import json\n",
    "import pandas as pd\n",
    "import time"
   ]
  },
  {
   "cell_type": "code",
   "execution_count": 4,
   "metadata": {},
   "outputs": [],
   "source": [
    "base_url = 'https://www.sephora.com'\n",
    "url = 'https://www.sephora.com/shop/fragrances-for-women'"
   ]
  },
  {
   "cell_type": "code",
   "execution_count": 12,
   "metadata": {},
   "outputs": [],
   "source": [
    "driver = webdriver.Chrome('../chromedriver') "
   ]
  },
  {
   "cell_type": "code",
   "execution_count": 6,
   "metadata": {},
   "outputs": [],
   "source": [
    "def getPages(url):\n",
    "    driver.get(url)\n",
    "    parsed_html = BeautifulSoup(driver.page_source,'html.parser')\n",
    "    return int(parsed_html.find('div','css-6su6fj').find_all('li')[-1].find('button','css-cx0up1 eanm77i0').text)"
   ]
  },
  {
   "cell_type": "code",
   "execution_count": 7,
   "metadata": {},
   "outputs": [],
   "source": [
    "pages = getPages(url)"
   ]
  },
  {
   "cell_type": "code",
   "execution_count": 8,
   "metadata": {},
   "outputs": [
    {
     "output_type": "execute_result",
     "data": {
      "text/plain": [
       "17"
      ]
     },
     "metadata": {},
     "execution_count": 8
    }
   ],
   "source": [
    "pages"
   ]
  },
  {
   "cell_type": "code",
   "execution_count": 50,
   "metadata": {},
   "outputs": [],
   "source": [
    "perfumeLinks = []"
   ]
  },
  {
   "cell_type": "code",
   "execution_count": 51,
   "metadata": {},
   "outputs": [
    {
     "output_type": "stream",
     "name": "stdout",
     "text": [
      "3994\n",
      "4762\n",
      "3979\n",
      "4777\n",
      "4747\n",
      "4777\n",
      "4777\n",
      "4777\n",
      "4777\n",
      "4777\n",
      "4778\n",
      "4777\n",
      "4792\n",
      "4777\n",
      "4762\n",
      "4762\n",
      "4341\n"
     ]
    }
   ],
   "source": [
    "driver = webdriver.Chrome('../chromedriver') \n",
    "for page in range(1,pages+1):\n",
    "    driver.get('{0}?currentPage={1}'.format(url,page))\n",
    "    y = 0\n",
    "    print(driver.execute_script('return document.body.scrollHeight;'))\n",
    "    while y < driver.execute_script('return document.body.scrollHeight;'):\n",
    "    # for timer in range(0,1):\n",
    "        #  driver.execute_script(\"window.scrollTo(0, document.body.scrollHeight);\")\n",
    "         driver.execute_script(\"window.scrollTo(0, \"+str(y)+\")\")\n",
    "         y += 200\n",
    "        #  time.sleep(1)\n",
    "    # driver.execute_script(\"window.scrollTo(0, document.body.scrollHeight);\")\n",
    "    parsed_html = BeautifulSoup(driver.page_source,'html.parser')\n",
    "    \n",
    "    for i in parsed_html.find_all('div','css-dkxsdo'):\n",
    "        for a in i.find_all('a', href=True):\n",
    "            # print(a['href'])\n",
    "            perfumeLinks.append('{0}{1}'.format(base_url,a['href']))"
   ]
  },
  {
   "cell_type": "code",
   "execution_count": 58,
   "metadata": {},
   "outputs": [],
   "source": [
    "df = pd.DataFrame(columns={'links'}) \n",
    "df['links'] = perfumeLinks\n",
    "df.to_csv('../csvdata/sephoralinks.csv',index=False)"
   ]
  }
 ],
 "metadata": {
  "kernelspec": {
   "display_name": "personal",
   "language": "python",
   "name": "personal"
  },
  "language_info": {
   "codemirror_mode": {
    "name": "ipython",
    "version": 3
   },
   "file_extension": ".py",
   "mimetype": "text/x-python",
   "name": "python",
   "nbconvert_exporter": "python",
   "pygments_lexer": "ipython3",
   "version": "3.7.7"
  }
 },
 "nbformat": 4,
 "nbformat_minor": 2
}